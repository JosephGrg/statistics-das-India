{
 "cells": [
  {
   "cell_type": "markdown",
   "id": "6670f1f1-5c11-4e71-adcd-09d9b0da0dba",
   "metadata": {},
   "source": [
    "# Statistics Introduction Exercises\n",
    "\n",
    "A few basic exercises mostly taken from [here](https://mdonega.github.io/hep-datanalysis-jb/preface.html)."
   ]
  },
  {
   "cell_type": "markdown",
   "id": "e9a63788-67c1-47d4-b495-48cc6b72503e",
   "metadata": {},
   "source": [
    "## Probability and Probability Distributions"
   ]
  },
  {
   "cell_type": "markdown",
   "id": "726a52a3-02ae-4379-b845-3e0da8c58ef0",
   "metadata": {},
   "source": [
    "1. For each of the following rates (0.1, 0.5, 1, 5) generate 10k events from a Poisson distribution and plot it"
   ]
  },
  {
   "cell_type": "markdown",
   "id": "a1b6a091-f9be-49f9-953c-1190d116fbbc",
   "metadata": {},
   "source": [
    "2. Draw PDF and CDF (for arbitrary values of their parameters) for the following distributions:"
   ]
  },
  {
   "cell_type": "markdown",
   "id": "c0e9d552-bc4b-47c6-936f-7df6f55218b2",
   "metadata": {},
   "source": [
    "2. a. gaussian"
   ]
  },
  {
   "cell_type": "markdown",
   "id": "75215360-30e2-414f-9a1b-d18faea9be67",
   "metadata": {},
   "source": [
    "2. b. $\\chi^2$"
   ]
  },
  {
   "cell_type": "markdown",
   "id": "e82a2c3b-0a38-4ffd-994d-9f2944d0b81b",
   "metadata": {},
   "source": [
    "2. c. Log-normal"
   ]
  },
  {
   "cell_type": "markdown",
   "id": "2cb680aa-55df-4b70-a5b3-5fe23d49389f",
   "metadata": {},
   "source": [
    "3. Visually demonstrate an application of the Central Limit Theorem (CLT): the distribution of the sum of multiple independent uniform random variables tends to a gaussian as more variables are added."
   ]
  },
  {
   "cell_type": "markdown",
   "id": "d28c5ce4-d129-4295-a6fe-7485cbd2b8ee",
   "metadata": {},
   "source": [
    "## Likelihood"
   ]
  },
  {
   "cell_type": "markdown",
   "id": "ca086c85-e554-41b0-83ae-fbbfdc3abe76",
   "metadata": {},
   "source": [
    "Generate 10k events from a gaussian pdf with $\\mu = 3$ and $\\sigma = 2.3$.\n",
    "Then, define a negative log-likelihood (NLL) and apply the maximum likelihood method (NLL minimization) to find the values $\\hat{\\mu}$ and $\\hat{\\sigma}$ that maximize the likelihood (minimize the NLL). These values are estimators of $\\mu$ and $\\sigma$.\n",
    "Assign an uncertainty to the estimators using the inverse of the hessian around the minimum and the graphic method (values of $\\hat{\\theta}$ for which $\\ln L$ decreases by 0.5).\n",
    "\n",
    "**Hint**: in the first case, you can minimize the NLL using [scipy.optimize.minimize](https://docs.scipy.org/doc/scipy/reference/generated/scipy.optimize.minimize.html) and access the inverse of the Hessian using the `hess_inv` method of the result returned; in the second case, for the sake of the exercise, when you \"scan\" a parameter, you can either fix the other parameter to its true value or profile it (i.e., find the value that minimizes the NLL for that value of the scanned parameter). Note that the correct procedure would require to profile it."
   ]
  },
  {
   "cell_type": "markdown",
   "id": "918aef25-1fce-4db9-b11a-3d7212b51e55",
   "metadata": {},
   "source": [
    "## Hypothesis Testing"
   ]
  },
  {
   "cell_type": "markdown",
   "id": "dc9a5d1b-b350-4c01-b816-1dc5afbed9fd",
   "metadata": {},
   "source": [
    "### Average Body Temperature\n",
    "\n",
    "Consider a population of many adults. A researcher hypothesized that the average adult body temperature is lower than the often-advertised 37 $^\\circ$. That is, the researcher wants an answer to the question: \"Is the average adult body temperature really 37 $^\\circ$? Or is it lower?\".\n",
    "\n",
    "In order to answer the question, he selects a random sample of 100 adults. The average body temperature of the sampled adults is 36.7 degrees, with a standard deviation of 1.4."
   ]
  },
  {
   "cell_type": "markdown",
   "id": "07f1aa9d-7f29-4588-81d3-3742f125f664",
   "metadata": {},
   "source": [
    "#### Part 1\n",
    "\n",
    "What can the reasearcher say about his initial hypothesis?\n",
    "\n",
    "In order to answer, use the following hints and answer these questions:\n",
    "\n",
    "- the test statistic you can use is $t = \\frac{\\bar{x} - \\mu}{s/\\sqrt{n}}$ (where $\\bar{x}$ is the mean of the sample, $\\mu$ is the population mean, $s$ is the standard deviation of the sample and $n$ is the size of the sample), whose PDF is a t-student with $n - 1$ degrees of freedom\n",
    "- what is the null hypothesis? and the alternative?\n",
    "- can the researcher reject the null hypothesis with a significance level of 0.05? and 0.01?"
   ]
  },
  {
   "cell_type": "markdown",
   "id": "6e9057a5-481b-4e67-b588-035213b3e259",
   "metadata": {},
   "source": [
    "Can the null hypothesys be rejected with a significance level of 5% (CL of 95%)?"
   ]
  },
  {
   "cell_type": "markdown",
   "id": "e7dbfdbd-b8bb-4830-8c5e-01ae28eb3c76",
   "metadata": {},
   "source": [
    "Can the null hypothesys be rejected with a significance level of 1% (CL of 99%)?"
   ]
  },
  {
   "cell_type": "markdown",
   "id": "d33a8c03-7a90-42d1-89fd-d0658e988e21",
   "metadata": {},
   "source": [
    "#### Part 2\n",
    "\n",
    "Repeat the exercise, but instead of using the t-student PDF sample the distribution from what you know about the null hypothesis. You can consider the temperature of the population following a gaussian distribution with mean 37 (as stated above) and standard deviation 0.4 (one of the values found in medical literature)."
   ]
  },
  {
   "cell_type": "markdown",
   "id": "edd43619-c519-447e-b6c4-f608130434d3",
   "metadata": {},
   "source": [
    "### Coin\n",
    "\n",
    "We suspect a coin might be biased towards heads. We thus toss the coin n = 10 times and observe X = 8. \n",
    "Based on this experiment, what can we say about the fairness of the coin?\n",
    "**Hint**: use a binomial to model the pdf."
   ]
  }
 ],
 "metadata": {
  "kernelspec": {
   "display_name": "Python 3 (ipykernel)",
   "language": "python",
   "name": "python3"
  },
  "language_info": {
   "codemirror_mode": {
    "name": "ipython",
    "version": 3
   },
   "file_extension": ".py",
   "mimetype": "text/x-python",
   "name": "python",
   "nbconvert_exporter": "python",
   "pygments_lexer": "ipython3",
   "version": "3.12.10"
  }
 },
 "nbformat": 4,
 "nbformat_minor": 5
}
